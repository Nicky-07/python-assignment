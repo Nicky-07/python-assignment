{
 "cells": [
  {
   "cell_type": "code",
   "execution_count": 27,
   "id": "1927abba-6193-4c36-ae19-441f584106b3",
   "metadata": {},
   "outputs": [
    {
     "name": "stdin",
     "output_type": "stream",
     "text": [
      "enter unit of electric bill: 350\n"
     ]
    },
    {
     "name": "stdout",
     "output_type": "stream",
     "text": [
      "total amount of electricbill is  rs 2000\n"
     ]
    }
   ],
   "source": [
    "# program to calculate the electricity bill\n",
    "\n",
    "unit=int(input(\"enter unit of electric bill:\"))\n",
    "\n",
    "if unit<=100:\n",
    "   electricbill=0\n",
    "if unit>100 and unit<=200:\n",
    "   electicbill=(unit-100)*5\n",
    "if unit>200:\n",
    "   electricbill=(100*5)+(unit-200)*10\n",
    "\n",
    "print(\"total amount of electricbill is Rs:\",electricbill)"
   ]
  },
  {
   "cell_type": "code",
   "execution_count": 42,
   "id": "9795170f-d936-4d5c-abb2-66ed79f47a7c",
   "metadata": {},
   "outputs": [
    {
     "name": "stdin",
     "output_type": "stream",
     "text": [
      "enter the percentage: 67\n"
     ]
    },
    {
     "name": "stdout",
     "output_type": "stream",
     "text": [
      "pass with grade 'C'\n"
     ]
    }
   ],
   "source": [
    "# program to calculate percent of marks\n",
    "\n",
    "percent=int(input(\"enter the percentage:\"))\n",
    "\n",
    "if percent>=90:\n",
    "    print(\"pass with grade 'A'\")\n",
    "elif percent>=80 and percent<90:\n",
    "    print(\"pass with grade 'B'\")\n",
    "elif percent>=60 and percent<80:\n",
    "    print(\"pass with grade 'C'\")\n",
    "else: \n",
    " print(\"fail with grade 'D'\")\n"
   ]
  },
  {
   "cell_type": "code",
   "execution_count": 44,
   "id": "92a1a3df-7b2d-48a7-ae85-970a2d2d7a20",
   "metadata": {},
   "outputs": [
    {
     "name": "stdin",
     "output_type": "stream",
     "text": [
      "enter the age of first people: 55\n",
      "enter the age of second people: 45\n",
      "enter the age of third people: 22\n",
      "enter the age of fourth people: 89\n"
     ]
    },
    {
     "name": "stdout",
     "output_type": "stream",
     "text": [
      "age4 is youngest\n"
     ]
    }
   ],
   "source": [
    "# program to check who is younger\n",
    "\n",
    "age1=int(input(\"enter the age of first people:\"))\n",
    "age2=int(input(\"enter the age of second people:\"))\n",
    "age3=int(input(\"enter the age of third people:\"))\n",
    "age4=int(input(\"enter the age of fourth people:\"))\n",
    "\n",
    "if age1<age2 and age1<3 and age1<age4:\n",
    "    print(\"age1 is youngest\")\n",
    "elif age2<age1 and age2<3 and age2<age4:\n",
    "    print(\"age2 is youngest\")\n",
    "elif age3<age1 and age3<2 and age3<age4:\n",
    "    print(\"age3 is youngest\")\n",
    "else:\n",
    "    print(\"age4 is youngest\")\n"
   ]
  },
  {
   "cell_type": "code",
   "execution_count": 130,
   "id": "b10caa1b-ab36-456e-8767-4a50765b88b4",
   "metadata": {},
   "outputs": [
    {
     "name": "stdin",
     "output_type": "stream",
     "text": [
      "enter the salary of user: 5000\n",
      "enter the year of experience user have: 7\n"
     ]
    },
    {
     "name": "stdout",
     "output_type": "stream",
     "text": [
      "net amount is: 400.0\n"
     ]
    }
   ],
   "source": [
    "# program to calculate salary after bonus\n",
    "\n",
    "salary=int(input(\"enter the salary of user:\"))\n",
    "experience=int(input(\"enter the year of experience user have:\"))\n",
    "\n",
    "if experience > 10:\n",
    " bonus=10\n",
    "elif experience >=6 and experience<=10:\n",
    "    bonus=8\n",
    "else:\n",
    "    bonus=5\n",
    "\n",
    "net_amt= (salary*bonus)/100\n",
    "print('net amount is:', net_amt)"
   ]
  },
  {
   "cell_type": "code",
   "execution_count": 96,
   "id": "bf78ab77-59e8-488c-a98c-4d96e9fca106",
   "metadata": {},
   "outputs": [
    {
     "name": "stdin",
     "output_type": "stream",
     "text": [
      "enter the first number: 100\n",
      "enter the second number: 200\n",
      "enter the third number: 300\n"
     ]
    },
    {
     "name": "stdout",
     "output_type": "stream",
     "text": [
      "number2 is greater\n"
     ]
    }
   ],
   "source": [
    "# program to check which number is second largest\n",
    "\n",
    "number1=int(input(\"enter the first number:\"))\n",
    "number2=int(input(\"enter the second number:\"))\n",
    "number3=int(input(\"enter the third number:\"))\n",
    "\n",
    "if number1>number2 and number1<number3:\n",
    " print('first number is greater')\n",
    "elif number2>number1 and number2<number3:\n",
    "    print('second number is greater')\n",
    "else:\n",
    "    print('third number is greater')"
   ]
  },
  {
   "cell_type": "code",
   "execution_count": 102,
   "id": "a0545f73-eed6-4798-8a0d-214b83774fb8",
   "metadata": {},
   "outputs": [
    {
     "name": "stdin",
     "output_type": "stream",
     "text": [
      "enter the marked price: 5000\n"
     ]
    },
    {
     "name": "stdout",
     "output_type": "stream",
     "text": [
      "net amount is: 4500.0\n"
     ]
    }
   ],
   "source": [
    "# program to calculate net amount after discount\n",
    "\n",
    "price=int(input(\"enter the marked price:\"))\n",
    "\n",
    "if price > 10000:\n",
    "    discount=20\n",
    "elif price >7000 and price <=10000:\n",
    "    discount=15\n",
    "else:\n",
    "    discount=10\n",
    "\n",
    "dis_price = (price*discount)/100\n",
    "net_price = price-dis_price\n",
    "\n",
    "print(\"net amount is:\",net_price)    "
   ]
  },
  {
   "cell_type": "code",
   "execution_count": 114,
   "id": "b2910056-4209-4c44-8d32-bf646dff2af7",
   "metadata": {},
   "outputs": [
    {
     "name": "stdin",
     "output_type": "stream",
     "text": [
      "enter marks of english 90\n",
      "enter marks of science 90\n",
      "enter marks of maths 90\n",
      "enter marks of social studies 90\n"
     ]
    },
    {
     "name": "stdout",
     "output_type": "stream",
     "text": [
      "stream alloted: science\n"
     ]
    }
   ],
   "source": [
    "# program to check which stream is alloted to student\n",
    "\n",
    "eng=int(input(\"enter marks of english\"))\n",
    "sci=int(input(\"enter marks of science\"))\n",
    "maths=int(input(\"enter marks of maths\"))\n",
    "sst=int(input(\"enter marks of social studies\"))\n",
    "\n",
    "if eng>80 and maths>80 and sci>80 and sst>80:\n",
    "    stream='science'\n",
    "elif eng>80 and maths>50 and sci>50:\n",
    "    stream='commerce'\n",
    "elif eng>80 and sst>80:\n",
    "    stream='humanities'\n",
    "else:\n",
    "    stream='invalid'\n",
    "print('stream alloted:', stream)"
   ]
  },
  {
   "cell_type": "code",
   "execution_count": 118,
   "id": "f88c306e-4d94-4988-b7a6-c765786324f8",
   "metadata": {},
   "outputs": [
    {
     "name": "stdin",
     "output_type": "stream",
     "text": [
      "enter the number 100\n"
     ]
    },
    {
     "name": "stdout",
     "output_type": "stream",
     "text": [
      "hello\n"
     ]
    }
   ],
   "source": [
    "# program to check number is divisible by 5 or not\n",
    "\n",
    "number=int(input(\"enter the number\"))\n",
    "\n",
    "if number%5==0:\n",
    "    print('hello')\n",
    "else:\n",
    "    print(\"bye bye\")"
   ]
  },
  {
   "cell_type": "code",
   "execution_count": 128,
   "id": "787a2ab8-82aa-4e9c-ae97-97964dd8ed0d",
   "metadata": {},
   "outputs": [
    {
     "name": "stdin",
     "output_type": "stream",
     "text": [
      "enter the number 89\n"
     ]
    },
    {
     "name": "stdout",
     "output_type": "stream",
     "text": [
      "last digit of 89 is divisible by 3\n"
     ]
    }
   ],
   "source": [
    "# program to check last digit is divisible by 3 or not\n",
    "\n",
    "number=int(input(\"enter the number\"))\n",
    "\n",
    "last_digit = number%10\n",
    "\n",
    "if last_digit%3==0:\n",
    "    print('last digit of',number, \"is divisible by 3\")\n",
    "else:\n",
    "     print('last digit of',number, \"is not divisible by 3\")"
   ]
  },
  {
   "cell_type": "code",
   "execution_count": 122,
   "id": "15944e64-016b-46ec-83d3-ba7a03f2c319",
   "metadata": {},
   "outputs": [
    {
     "name": "stdin",
     "output_type": "stream",
     "text": [
      "enter the number 34667\n"
     ]
    },
    {
     "name": "stdout",
     "output_type": "stream",
     "text": [
      "34667 is not a three digit number\n"
     ]
    }
   ],
   "source": [
    "# program to check number is 3-digit or not\n",
    "\n",
    "number=int(input(\"enter the number\"))\n",
    "\n",
    "if number >99 and  number <1000:\n",
    "    print(number, \"is three digit number\")\n",
    "else:\n",
    "    print(number, \"is not a three digit number\")"
   ]
  },
  {
   "cell_type": "code",
   "execution_count": null,
   "id": "9c370d77-51b0-4f59-92a5-387a09061b87",
   "metadata": {},
   "outputs": [],
   "source": []
  }
 ],
 "metadata": {
  "kernelspec": {
   "display_name": "Python 3 (ipykernel)",
   "language": "python",
   "name": "python3"
  },
  "language_info": {
   "codemirror_mode": {
    "name": "ipython",
    "version": 3
   },
   "file_extension": ".py",
   "mimetype": "text/x-python",
   "name": "python",
   "nbconvert_exporter": "python",
   "pygments_lexer": "ipython3",
   "version": "3.12.4"
  }
 },
 "nbformat": 4,
 "nbformat_minor": 5
}
