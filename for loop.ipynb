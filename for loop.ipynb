{
 "cells": [
  {
   "cell_type": "code",
   "execution_count": 25,
   "id": "d9e2a562-0da1-432c-97f3-aa0bf265b5f3",
   "metadata": {
    "scrolled": true
   },
   "outputs": [
    {
     "name": "stdout",
     "output_type": "stream",
     "text": [
      "enter any number: 9\n"
     ]
    },
    {
     "name": "stdout",
     "output_type": "stream",
     "text": [
      "9 x 1 = 9\n",
      "9 x 2 = 18\n",
      "9 x 3 = 27\n",
      "9 x 4 = 36\n",
      "9 x 5 = 45\n",
      "9 x 6 = 54\n",
      "9 x 7 = 63\n",
      "9 x 8 = 72\n",
      "9 x 9 = 81\n",
      "9 x 10 = 90\n"
     ]
    }
   ],
   "source": [
    "# program to print table\n",
    "\n",
    "num= int(input(\"enter any number:\"))\n",
    "\n",
    "for i in range(1,11):\n",
    "    print(num,\"x\",i,'=',num*i)"
   ]
  },
  {
   "cell_type": "code",
   "execution_count": 24,
   "id": "4b56df9a-1cae-4cce-a060-9f3e4e03a592",
   "metadata": {},
   "outputs": [
    {
     "name": "stdout",
     "output_type": "stream",
     "text": [
      "1\n",
      "2\n",
      "3\n",
      "4\n",
      "5\n",
      "6\n",
      "7\n",
      "8\n",
      "9\n",
      "10\n"
     ]
    }
   ],
   "source": [
    "# program to print all the numbers from 1 to 10\n",
    "\n",
    "for i in range(1,11):\n",
    "    print(i)"
   ]
  },
  {
   "cell_type": "code",
   "execution_count": 17,
   "id": "dc802870-7a69-46a3-a843-0d9346f7a1d4",
   "metadata": {},
   "outputs": [
    {
     "name": "stdout",
     "output_type": "stream",
     "text": [
      "sum is : 5050\n"
     ]
    }
   ],
   "source": [
    "# program to find the sum of all numbers from 1 to 100\n",
    "\n",
    "sum=0\n",
    "\n",
    "for i in range(1,101):\n",
    "    sum+=i\n",
    "print(\"sum is :\", sum)"
   ]
  },
  {
   "cell_type": "code",
   "execution_count": 40,
   "id": "5668f42e-4ee6-4046-aec9-e44fd790c66c",
   "metadata": {},
   "outputs": [
    {
     "name": "stdout",
     "output_type": "stream",
     "text": [
      "7\n",
      "8\n"
     ]
    }
   ],
   "source": [
    "# program to count the number of even and odd numbers    \n",
    "\n",
    "list =[1,2,3,4,5,6,7,8,9,10,11,12,13,14,15]\n",
    "count_even=0\n",
    "count_odd=0\n",
    "\n",
    "for count in list:\n",
    "    if count%2==0 :\n",
    "        count_even+=1\n",
    "    else :\n",
    "        count_odd+=1\n",
    "\n",
    "print(count_even)\n",
    "print(count_odd)"
   ]
  },
  {
   "cell_type": "code",
   "execution_count": 19,
   "id": "49f2b634-0dd3-4a64-a984-55ca64aa996a",
   "metadata": {},
   "outputs": [
    {
     "name": "stdout",
     "output_type": "stream",
     "text": [
      "enter any number 5\n"
     ]
    },
    {
     "name": "stdout",
     "output_type": "stream",
     "text": [
      "factorial is : 1\n",
      "factorial is : 2\n",
      "factorial is : 6\n",
      "factorial is : 24\n",
      "factorial is : 120\n"
     ]
    }
   ],
   "source": [
    "# program to find the factorial of a number using a for loop\n",
    "\n",
    "num=int(input(\"enter any number\"))\n",
    "fact=1\n",
    "\n",
    "for n in range(1,num+1):\n",
    "       fact=fact*n\n",
    "       print(\"factorial is :\",fact)\n"
   ]
  },
  {
   "cell_type": "code",
   "execution_count": 65,
   "id": "1894fc4e-086f-4723-8d2d-a9cf21c106f8",
   "metadata": {},
   "outputs": [
    {
     "name": "stdout",
     "output_type": "stream",
     "text": [
      "largest number is: 33\n",
      "largest number is: 54\n",
      "largest number is: 76\n"
     ]
    }
   ],
   "source": [
    "# program to find the largest element in a list\n",
    "\n",
    "list = [12,33,54,76,8,45,5]\n",
    "largest=0\n",
    "\n",
    "for max in list:\n",
    "    if max>largest:\n",
    "        largest=max\n",
    "        print(\"largest number is:\", largest)\n",
    "        "
   ]
  },
  {
   "cell_type": "code",
   "execution_count": 3,
   "id": "3f06ec6a-bf7d-4cff-a6d8-2ccd46a9827c",
   "metadata": {},
   "outputs": [
    {
     "name": "stdout",
     "output_type": "stream",
     "text": [
      "p\n",
      "yp\n",
      "typ\n",
      "htyp\n",
      "ohtyp\n",
      "nohtyp\n"
     ]
    }
   ],
   "source": [
    "# program to reverse a given string\n",
    "\n",
    "string=\"python\"\n",
    "reverse_string=\"\"\n",
    "for char in string:\n",
    "    reverse_string = char+reverse_string\n",
    "    print(reverse_string)"
   ]
  },
  {
   "cell_type": "code",
   "execution_count": 87,
   "id": "a8d43139-8ad3-4f40-8675-a62885ca3272",
   "metadata": {},
   "outputs": [
    {
     "name": "stdout",
     "output_type": "stream",
     "text": [
      "enter any number 678\n"
     ]
    },
    {
     "name": "stdout",
     "output_type": "stream",
     "text": [
      "not prime\n"
     ]
    }
   ],
   "source": [
    "# program to check if a given number is prime or not\n",
    "\n",
    "num= int(input(\"enter any number\"))\n",
    "count=0\n",
    "for n in range(1,num+1):\n",
    "    if num%n==0 :\n",
    "        count+=1\n",
    "        \n",
    "if count==2 :\n",
    "    print(\"prime number\")\n",
    "else:\n",
    "    print(\"not prime\")\n"
   ]
  },
  {
   "cell_type": "code",
   "execution_count": 1,
   "id": "7d1d21b3-fc0d-41cf-b2c3-89d7f836f793",
   "metadata": {},
   "outputs": [
    {
     "name": "stdin",
     "output_type": "stream",
     "text": [
      "how many terms you want? 5\n"
     ]
    },
    {
     "name": "stdout",
     "output_type": "stream",
     "text": [
      "0\n",
      "1\n",
      "1\n",
      "2\n",
      "3\n"
     ]
    }
   ],
   "source": [
    "# program to print fabnocii series (0,1,1,2,3,5,8,13)\n",
    "\n",
    "terms=int(input(\"how many terms you want?\"))\n",
    "num1=0\n",
    "num2=1\n",
    "count=0\n",
    "\n",
    "while count <terms:\n",
    "    print(num1)\n",
    "    total = num1+num2\n",
    "\n",
    "    num1=num2\n",
    "    num2=total\n",
    "    count +=1\n",
    "    \n",
    "\n"
   ]
  },
  {
   "cell_type": "code",
   "execution_count": 23,
   "id": "0621cad7-3557-4488-89d4-d323b427414b",
   "metadata": {},
   "outputs": [
    {
     "name": "stdout",
     "output_type": "stream",
     "text": [
      "1\n"
     ]
    }
   ],
   "source": [
    "# program to check common element in between two list\n",
    "\n",
    "list1 = [1,2,3]\n",
    "list2 = [4,5,1]\n",
    "\n",
    "for common in list1:\n",
    "    if common in list2:\n",
    "        print(common)"
   ]
  },
  {
   "cell_type": "code",
   "execution_count": null,
   "id": "bc55274d-90c6-4349-9e6f-086e596e9fa1",
   "metadata": {},
   "outputs": [],
   "source": []
  }
 ],
 "metadata": {
  "kernelspec": {
   "display_name": "Python 3 (ipykernel)",
   "language": "python",
   "name": "python3"
  },
  "language_info": {
   "codemirror_mode": {
    "name": "ipython",
    "version": 3
   },
   "file_extension": ".py",
   "mimetype": "text/x-python",
   "name": "python",
   "nbconvert_exporter": "python",
   "pygments_lexer": "ipython3",
   "version": "3.12.4"
  }
 },
 "nbformat": 4,
 "nbformat_minor": 5
}
