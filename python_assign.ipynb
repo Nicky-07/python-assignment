{
 "cells": [
  {
   "cell_type": "code",
   "execution_count": 110,
   "id": "5374bbb9-01df-4d66-ae88-593d163c6799",
   "metadata": {},
   "outputs": [
    {
     "name": "stdin",
     "output_type": "stream",
     "text": [
      "enter candidate name: nicky\n",
      "enter candidate position: python\n",
      "enter candidate ctc: 5000\n",
      "hr name: rohit\n"
     ]
    }
   ],
   "source": [
    "# name=input('enter candidate name:').capitalize()\n",
    "# position=input('enter candidate position:')\n",
    "# ctc=int(input('enter candidate ctc:'))\n",
    "# hr_name=input('hr name:')\n",
    "\n",
    "# offer_letter= f'''Hi {name},\n",
    "# This is the offer letter for you.\n",
    "# You are hired for the {position} Position.\n",
    "# Your CTC is {ctc}.\n",
    "# Thanks and Regards,\n",
    "# {hr_name}\n",
    "# '''\n",
    "\n",
    "# with open(\"offer_letter.txt\", 'w') as file:\n",
    "#     file.write(offer_letter)"
   ]
  },
  {
   "cell_type": "code",
   "execution_count": 3,
   "id": "1faef91e-779e-4cc3-b68a-1e6d5f557a35",
   "metadata": {},
   "outputs": [
    {
     "name": "stdin",
     "output_type": "stream",
     "text": [
      "enter candidate name: ashwini\n",
      "enter candidate position: java developer\n",
      "enter candidate ctc: 50000\n",
      "hr name: nicky\n"
     ]
    },
    {
     "name": "stdout",
     "output_type": "stream",
     "text": [
      "Hi Ashwini,\n",
      "This is the offer letter for you.\n",
      "You are hired for the java developer Position.\n",
      "Your CTC is 50000.\n",
      "Thanks and Regards,\n",
      "nicky\n",
      "\n"
     ]
    }
   ],
   "source": [
    "name=input('enter candidate name:').capitalize()\n",
    "position=input('enter candidate position:')\n",
    "ctc=int(input('enter candidate ctc:'))\n",
    "hr_name=input('hr name:')\n",
    "\n",
    "offer_letter= f'''Hi {name},\n",
    "This is the offer letter for you.\n",
    "You are hired for the {position} Position.\n",
    "Your CTC is {ctc}.                                                       # format string\n",
    "Thanks and Regards,\n",
    "{hr_name}                                                                      \n",
    "'''\n",
    "print(offer_letter)"
   ]
  },
  {
   "cell_type": "code",
   "execution_count": 11,
   "id": "a1aaa41c-8dba-41ca-a03e-621a7a09da5e",
   "metadata": {},
   "outputs": [
    {
     "name": "stdout",
     "output_type": "stream",
     "text": [
      "nicky_kumari\n"
     ]
    }
   ],
   "source": [
    "first='nicky'            # '+' operator\n",
    "last='kumari'\n",
    "print(first+'_'+last)"
   ]
  },
  {
   "cell_type": "code",
   "execution_count": 25,
   "id": "2ccd8a4e-26e5-4335-ba3d-5fa697b71d7f",
   "metadata": {},
   "outputs": [
    {
     "name": "stdout",
     "output_type": "stream",
     "text": [
      "nicky , kumari\n"
     ]
    }
   ],
   "source": [
    "print(first,',',last)     # join operator"
   ]
  },
  {
   "cell_type": "code",
   "execution_count": 47,
   "id": "5a890ae5-bf30-4074-a1c5-6521a060f4c9",
   "metadata": {},
   "outputs": [
    {
     "name": "stdout",
     "output_type": "stream",
     "text": [
      "k\n"
     ]
    }
   ],
   "source": [
    "print(first[3])           # individual character\n",
    "str."
   ]
  },
  {
   "cell_type": "code",
   "execution_count": 39,
   "id": "86d3c065-1187-40a1-a36f-18fd8343aeb0",
   "metadata": {},
   "outputs": [
    {
     "data": {
      "text/plain": [
       "6"
      ]
     },
     "execution_count": 39,
     "metadata": {},
     "output_type": "execute_result"
    }
   ],
   "source": [
    "len(last)                 # length"
   ]
  },
  {
   "cell_type": "code",
   "execution_count": 47,
   "id": "18869d6d-c97a-4cc0-b54e-6fb1212c2994",
   "metadata": {},
   "outputs": [
    {
     "name": "stdout",
     "output_type": "stream",
     "text": [
      "NICKY\n"
     ]
    }
   ],
   "source": [
    "print(first.upper())      # upper"
   ]
  },
  {
   "cell_type": "code",
   "execution_count": 49,
   "id": "9fba4c43-117f-4cb5-9282-fd2344cfd542",
   "metadata": {},
   "outputs": [
    {
     "name": "stdout",
     "output_type": "stream",
     "text": [
      "nicky\n"
     ]
    }
   ],
   "source": [
    "print(first.lower())      # lower"
   ]
  },
  {
   "cell_type": "code",
   "execution_count": 103,
   "id": "214b6575-b687-45a9-b658-43f8ff93b473",
   "metadata": {},
   "outputs": [
    {
     "name": "stdout",
     "output_type": "stream",
     "text": [
      "   this is   java\n"
     ]
    }
   ],
   "source": [
    "line='   this is   python'\n",
    "print(line.replace(\"python\",\"java\"))            # replace"
   ]
  },
  {
   "cell_type": "code",
   "execution_count": 57,
   "id": "534d1dee-1c69-4daf-b0b2-c216b891df70",
   "metadata": {},
   "outputs": [
    {
     "name": "stdout",
     "output_type": "stream",
     "text": [
      "['this', 'is', 'python']\n"
     ]
    }
   ],
   "source": [
    "print(line.split())                            # split"
   ]
  },
  {
   "cell_type": "code",
   "execution_count": 93,
   "id": "6c7a3cdd-4d58-4a58-b121-188bac92b47a",
   "metadata": {},
   "outputs": [
    {
     "name": "stdout",
     "output_type": "stream",
     "text": [
      "True\n"
     ]
    }
   ],
   "source": [
    "print(line.startswith(\"th\"))          # start with"
   ]
  },
  {
   "cell_type": "code",
   "execution_count": 97,
   "id": "ba4d0ba2-2490-461e-ab93-e0d03dae3328",
   "metadata": {},
   "outputs": [
    {
     "name": "stdout",
     "output_type": "stream",
     "text": [
      "True\n"
     ]
    }
   ],
   "source": [
    "print(line.endswith(\"on\"))            # end with"
   ]
  },
  {
   "cell_type": "code",
   "execution_count": 99,
   "id": "bac8ec63-7db0-45c8-aed2-39d1ce209ef3",
   "metadata": {},
   "outputs": [
    {
     "name": "stdout",
     "output_type": "stream",
     "text": [
      "this is python\n"
     ]
    }
   ],
   "source": [
    "print(line.strip())                   # remove whitespace (extra space in line or b/w word)"
   ]
  },
  {
   "cell_type": "code",
   "execution_count": 51,
   "id": "51b45df9-5d3f-42a6-a0b9-9067a413374b",
   "metadata": {},
   "outputs": [
    {
     "name": "stdout",
     "output_type": "stream",
     "text": [
      "3\n"
     ]
    }
   ],
   "source": [
    "print(line.index('t'))                # find index"
   ]
  },
  {
   "cell_type": "code",
   "execution_count": 27,
   "id": "449d5b94-d5c9-4ac3-b91a-f2eac050f6db",
   "metadata": {},
   "outputs": [
    {
     "name": "stdout",
     "output_type": "stream",
     "text": [
      "2\n"
     ]
    }
   ],
   "source": [
    "print(line.count('i'))                # count number"
   ]
  },
  {
   "cell_type": "code",
   "execution_count": 45,
   "id": "f021a78f-1cc2-41dc-908b-b68b6a6f8565",
   "metadata": {},
   "outputs": [
    {
     "name": "stdout",
     "output_type": "stream",
     "text": [
      "True\n"
     ]
    }
   ],
   "source": [
    "line2='python'\n",
    "print(line2.isalpha())                # check alphabet"
   ]
  },
  {
   "cell_type": "code",
   "execution_count": 41,
   "id": "405d836d-2668-4bfe-ae88-d9be58393f4c",
   "metadata": {},
   "outputs": [
    {
     "name": "stdout",
     "output_type": "stream",
     "text": [
      "True\n"
     ]
    }
   ],
   "source": [
    "lines='12334'\n",
    "print(lines.isnumeric())              # check numeric"
   ]
  },
  {
   "cell_type": "code",
   "execution_count": 77,
   "id": "d3773f59-b45d-4751-88b9-fb34a6f3676d",
   "metadata": {},
   "outputs": [
    {
     "name": "stdout",
     "output_type": "stream",
     "text": [
      "3724924677ykcin\n"
     ]
    }
   ],
   "source": [
    "name= 'nicky7764294273'\n",
    "print(name[14::-1])                    # check palindrome (palindrome means reverse number)"
   ]
  },
  {
   "cell_type": "code",
   "execution_count": 75,
   "id": "35053189-0914-4b0d-864b-b699c07aac89",
   "metadata": {},
   "outputs": [
    {
     "name": "stdout",
     "output_type": "stream",
     "text": [
      "924677ykcin\n"
     ]
    }
   ],
   "source": [
    "print(name[10::-1])                    # reverse"
   ]
  },
  {
   "cell_type": "code",
   "execution_count": 5,
   "id": "98e5e936-a915-46a4-9192-4e337579f936",
   "metadata": {},
   "outputs": [
    {
     "name": "stdout",
     "output_type": "stream",
     "text": [
      "nicky 7764294273\n"
     ]
    }
   ],
   "source": [
    "names= 'nicky7764294273'\n",
    "mob = 'nicky7764294273'\n",
    "                                       # slicing (+ve and -ve)\n",
    "print(names[0:5:1],mob[-10::1])"
   ]
  },
  {
   "cell_type": "code",
   "execution_count": 9,
   "id": "ed19d2d6-2b5f-4662-9621-9a1e431ddaeb",
   "metadata": {},
   "outputs": [
    {
     "name": "stdout",
     "output_type": "stream",
     "text": [
      "nicky  642942 3\n"
     ]
    }
   ],
   "source": [
    "name1= 'nicky7764294273'\n",
    "print(name1.replace('7',' '))           # remove specific character"
   ]
  },
  {
   "cell_type": "code",
   "execution_count": null,
   "id": "75a0e043-627e-44c5-a360-d92d62645245",
   "metadata": {},
   "outputs": [],
   "source": []
  }
 ],
 "metadata": {
  "kernelspec": {
   "display_name": "Python 3 (ipykernel)",
   "language": "python",
   "name": "python3"
  },
  "language_info": {
   "codemirror_mode": {
    "name": "ipython",
    "version": 3
   },
   "file_extension": ".py",
   "mimetype": "text/x-python",
   "name": "python",
   "nbconvert_exporter": "python",
   "pygments_lexer": "ipython3",
   "version": "3.12.4"
  }
 },
 "nbformat": 4,
 "nbformat_minor": 5
}
